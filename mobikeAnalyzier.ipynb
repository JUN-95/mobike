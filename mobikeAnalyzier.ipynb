{
 "cells": [
  {
   "cell_type": "code",
   "execution_count": 135,
   "outputs": [
    {
     "data": {
      "text/plain": "   orderid  bikeid  userid        start_time  start_location_x  \\\n0    78387  158357   10080  2016-08-20 06:57           121.348   \n1   891333   92776    6605  2016-08-29 19:09           121.508   \n2  1106623  152045    8876  2016-08-13 16:17           121.383   \n3  1389484  196259   10648  2016-08-23 21:34           121.484   \n4   188537   78208   11735  2016-08-16 07:32           121.407   \n\n   start_location_y          end_time  end_location_x  end_location_y  \\\n0            31.389  2016-08-20 07:04         121.357          31.388   \n1            31.279  2016-08-29 19:31         121.489          31.271   \n2            31.254  2016-08-13 16:36         121.405          31.248   \n3            31.320  2016-08-23 21:43         121.471          31.325   \n4            31.292  2016-08-16 07:41         121.418          31.288   \n\n                                               track  \n0  121.347,31.392#121.348,31.389#121.349,31.390#1...  \n1  121.489,31.270#121.489,31.271#121.490,31.270#1...  \n2  121.381,31.251#121.382,31.251#121.382,31.252#1...  \n3  121.471,31.325#121.472,31.325#121.473,31.324#1...  \n4  121.407,31.291#121.407,31.292#121.408,31.291#1...  ",
      "text/html": "<div>\n<style scoped>\n    .dataframe tbody tr th:only-of-type {\n        vertical-align: middle;\n    }\n\n    .dataframe tbody tr th {\n        vertical-align: top;\n    }\n\n    .dataframe thead th {\n        text-align: right;\n    }\n</style>\n<table border=\"1\" class=\"dataframe\">\n  <thead>\n    <tr style=\"text-align: right;\">\n      <th></th>\n      <th>orderid</th>\n      <th>bikeid</th>\n      <th>userid</th>\n      <th>start_time</th>\n      <th>start_location_x</th>\n      <th>start_location_y</th>\n      <th>end_time</th>\n      <th>end_location_x</th>\n      <th>end_location_y</th>\n      <th>track</th>\n    </tr>\n  </thead>\n  <tbody>\n    <tr>\n      <th>0</th>\n      <td>78387</td>\n      <td>158357</td>\n      <td>10080</td>\n      <td>2016-08-20 06:57</td>\n      <td>121.348</td>\n      <td>31.389</td>\n      <td>2016-08-20 07:04</td>\n      <td>121.357</td>\n      <td>31.388</td>\n      <td>121.347,31.392#121.348,31.389#121.349,31.390#1...</td>\n    </tr>\n    <tr>\n      <th>1</th>\n      <td>891333</td>\n      <td>92776</td>\n      <td>6605</td>\n      <td>2016-08-29 19:09</td>\n      <td>121.508</td>\n      <td>31.279</td>\n      <td>2016-08-29 19:31</td>\n      <td>121.489</td>\n      <td>31.271</td>\n      <td>121.489,31.270#121.489,31.271#121.490,31.270#1...</td>\n    </tr>\n    <tr>\n      <th>2</th>\n      <td>1106623</td>\n      <td>152045</td>\n      <td>8876</td>\n      <td>2016-08-13 16:17</td>\n      <td>121.383</td>\n      <td>31.254</td>\n      <td>2016-08-13 16:36</td>\n      <td>121.405</td>\n      <td>31.248</td>\n      <td>121.381,31.251#121.382,31.251#121.382,31.252#1...</td>\n    </tr>\n    <tr>\n      <th>3</th>\n      <td>1389484</td>\n      <td>196259</td>\n      <td>10648</td>\n      <td>2016-08-23 21:34</td>\n      <td>121.484</td>\n      <td>31.320</td>\n      <td>2016-08-23 21:43</td>\n      <td>121.471</td>\n      <td>31.325</td>\n      <td>121.471,31.325#121.472,31.325#121.473,31.324#1...</td>\n    </tr>\n    <tr>\n      <th>4</th>\n      <td>188537</td>\n      <td>78208</td>\n      <td>11735</td>\n      <td>2016-08-16 07:32</td>\n      <td>121.407</td>\n      <td>31.292</td>\n      <td>2016-08-16 07:41</td>\n      <td>121.418</td>\n      <td>31.288</td>\n      <td>121.407,31.291#121.407,31.292#121.408,31.291#1...</td>\n    </tr>\n  </tbody>\n</table>\n</div>"
     },
     "metadata": {},
     "output_type": "execute_result",
     "execution_count": 135
    }
   ],
   "source": [
    "import numpy as np\n",
    "import pandas as pd\n",
    "import matplotlib.pyplot as plt\n",
    "import seaborn as sb\n",
    "\n",
    "%matplotlib inline\n",
    "\n",
    "rawdata = pd.read_csv('data/mobike_shanghai_sample_updated.csv')\n",
    "rawdata.head()\n"
   ],
   "metadata": {
    "collapsed": false,
    "pycharm": {
     "name": "#%%\n",
     "is_executing": false
    }
   }
  },
  {
   "cell_type": "code",
   "execution_count": 136,
   "outputs": [
    {
     "name": "stdout",
     "text": [
      "<class 'pandas.core.frame.DataFrame'>\nRangeIndex: 102361 entries, 0 to 102360\nData columns (total 10 columns):\n #   Column            Non-Null Count   Dtype         \n---  ------            --------------   -----         \n 0   orderid           102361 non-null  object        \n 1   bikeid            102361 non-null  object        \n 2   userid            102361 non-null  object        \n 3   start_time        102361 non-null  datetime64[ns]\n 4   start_location_x  102361 non-null  float64       \n 5   start_location_y  102361 non-null  float64       \n 6   end_time          102361 non-null  datetime64[ns]\n 7   end_location_x    102361 non-null  float64       \n 8   end_location_y    102361 non-null  float64       \n 9   track             102361 non-null  object        \ndtypes: datetime64[ns](2), float64(4), object(4)\nmemory usage: 7.8+ MB\n"
     ],
     "output_type": "stream"
    }
   ],
   "source": [
    "data = rawdata.copy()\n",
    "tobestr = ['orderid', 'bikeid', 'userid']\n",
    "data[tobestr] = data[tobestr].astype('str')\n",
    "data['start_time'] = pd.to_datetime(data['start_time'])\n",
    "data['end_time'] = pd.to_datetime(data['end_time'])\n",
    "data.info()"
   ],
   "metadata": {
    "collapsed": false,
    "pycharm": {
     "name": "#%%\n",
     "is_executing": false
    }
   }
  },
  {
   "cell_type": "code",
   "execution_count": 137,
   "outputs": [],
   "source": [
    "data['duration'] = data.end_time - data.start_time\n",
    "data['dur_day'] = data.duration.apply(lambda x: str(x).split(' ')[0])\n",
    "data['dur_hr'] = data.duration.apply(lambda x: str(x).split(' ')[-1][:2])\n",
    "data['dur_min'] = data.duration.apply(lambda x: str(x).split(':')[-2])\n",
    "data['dur_sec'] = data.duration.apply(lambda x: str(x).split(':')[-1])\n",
    "tobeint = ['dur_day', 'dur_hr', 'dur_min', 'dur_sec']\n",
    "data[tobeint] = data[tobeint].astype('int')\n",
    "data['ttl_min'] = data.dur_day * 24 * 60 + data.dur_hr * 60 + data.dur_min + data.dur_sec / 60"
   ],
   "metadata": {
    "collapsed": false,
    "pycharm": {
     "name": "#%%\n",
     "is_executing": false
    }
   }
  },
  {
   "cell_type": "code",
   "execution_count": 138,
   "outputs": [],
   "source": [
    "# datetime.datetime.isoweekday（）返回的1-7代表周一--周日；\n",
    "data['dayId'] = data.start_time.apply(lambda x: x.isoweekday())\n",
    "#dayType 工作日\n",
    "data['dayType'] = data.dayId.apply(lambda x: 'weekends' if x == 6 or x == 7 else 'weekdays')\n",
    "\n",
    "data['hourId'] = data.start_time.apply(lambda x: x.utctimetuple().tm_hour)\n",
    "# rush hours：7-8，17-20 上班时间 其余时间为non-rush hours\n",
    "data['hourType'] = data.hourId.apply(lambda x: 'rush hours' if (7 <= x <= 8) or (17 <= x <= 20) else 'non-rush hours')"
   ],
   "metadata": {
    "collapsed": false,
    "pycharm": {
     "name": "#%%\n",
     "is_executing": false
    }
   }
  },
  {
   "cell_type": "code",
   "execution_count": 149,
   "outputs": [],
   "source": [
    "# 按每条记录的起点位置，作为发起订单所处位置的数据依据\n",
    "from math import radians, cos, sin, asin, sqrt\n",
    "\n",
    "# 自定义函数，通过两点的经纬度计算两点之间的直线距离\n",
    "def geodistance(lng1, lat1, lng2, lat2):\n",
    "    lng1_r, lat1_r, lng2_r, lat2_r = map(radians, [lng1, lat1, lng2, lat2]) # 经纬度转换成弧度\n",
    "    dlon = lng1_r - lng2_r\n",
    "    dlat = lat1_r - lat2_r\n",
    "    dis = sin(dlat/2)**2 + cos(lat1_r) * cos(lat2_r) * sin(dlon/2)**2\n",
    "    distance = 2 * asin(sqrt(dis)) * 6371 * 1000 # 地球平均半径为6371km\n",
    "    distance = round(distance/1000,3)\n",
    "    return distance\n",
    "\n",
    "# 自定义函数，通过调用geodistance获取每条记录骑行始末点和起点距中心点的直线距离\n",
    "def get_dis(item):\n",
    "    #distance：点和起点距中心点的直线距离\n",
    "    item['distance'] = geodistance(item['start_location_x'], item['start_location_y'],\n",
    "                                   item['end_location_x'], item['end_location_y'])    # 计算骑行始末点经纬度的直线距离\n",
    "    # 国际饭店一般被认为是上海地理中心坐标点，计算骑行起始点经纬度和国际饭店经纬度的直线距离\n",
    "    #disToCenter：国际饭店的距离\n",
    "    item['disToCenter'] = geodistance(item['start_location_x'], item['start_location_y'], 121.471632, 31.233705)\n",
    "    return item\n",
    "\n",
    "data['distance'] = np.nan\n",
    "data['disToCenter'] = np.nan\n",
    "data = data.apply(get_dis, axis=1)\n",
    "\n"
   ],
   "metadata": {
    "collapsed": false,
    "pycharm": {
     "name": "#%%\n",
     "is_executing": false
    }
   }
  },
  {
   "cell_type": "code",
   "execution_count": 151,
   "outputs": [
    {
     "data": {
      "text/plain": "<matplotlib.axes._subplots.AxesSubplot at 0x1858038cb70>"
     },
     "metadata": {},
     "output_type": "execute_result",
     "execution_count": 151
    },
    {
     "data": {
      "text/plain": "<Figure size 432x288 with 1 Axes>",
      "image/png": "[encoded data removed]"
     },
     "metadata": {
      "needs_background": "light"
     },
     "output_type": "display_data"
    }
   ],
   "source": [
    "# 时间分布图\n",
    "import seaborn as sns\n",
    "data[\"hourId\"] = data[\"hourId\"].apply(lambda x:x+1)\n",
    "hour_group = data.groupby(\"hourId\")\n",
    "hour_num_df = hour_group.agg({\"orderid\":\"count\"}).reset_index()  # 计算分组后的单车数\n",
    "# print(hour_num_df)\n",
    "hour_num_df.to_csv(\"data/hour_num_df.csv\",index=None)\n",
    "sns.barplot(x = \"hourId\",y = \"orderid\",data =hour_num_df )"
   ],
   "metadata": {
    "collapsed": false,
    "pycharm": {
     "name": "#%%\n",
     "is_executing": false
    }
   }
  },
  {
   "cell_type": "code",
   "execution_count": 141,
   "outputs": [
    {
     "data": {
      "text/plain": "Text(0.5, 0, 'Riding Distance (km)')"
     },
     "metadata": {},
     "output_type": "execute_result",
     "execution_count": 141
    },
    {
     "data": {
      "text/plain": "<Figure size 432x288 with 1 Axes>",
      "image/png": "[encoded data removed]"
     },
     "metadata": {
      "needs_background": "light"
     },
     "output_type": "display_data"
    }
   ],
   "source": [
    "# 骑行距离同样存在长尾分布特征，对x轴使用log变化以观察分布规律\n",
    "bins = 10 ** np.arange(np.log10(data.distance.min()), np.log10(data.distance.max()) + 0.08, 0.08)\n",
    "plt.hist(data = data, x = 'distance', bins = bins)\n",
    "plt.xscale('log')\n",
    "xticks = (0.1, 0.2, 0.5, 1, 2, 5, 10, 20)\n",
    "plt.xticks(xticks, xticks)\n",
    "plt.xlabel('Riding Distance (km)')"
   ],
   "metadata": {
    "collapsed": false,
    "pycharm": {
     "name": "#%%\n",
     "is_executing": false
    }
   }
  },
  {
   "cell_type": "code",
   "execution_count": 160,
   "outputs": [
    {
     "traceback": [
      "\u001b[1;31m---------------------------------------------------------------------------\u001b[0m",
      "\u001b[1;31mTypeError\u001b[0m                                 Traceback (most recent call last)",
      "\u001b[1;32m<ipython-input-160-ded458af494a>\u001b[0m in \u001b[0;36m<module>\u001b[1;34m\u001b[0m\n\u001b[0;32m     10\u001b[0m \u001b[1;33m\u001b[0m\u001b[0m\n\u001b[0;32m     11\u001b[0m \u001b[1;33m\u001b[0m\u001b[0m\n\u001b[1;32m---> 12\u001b[1;33m \u001b[0mcountNum\u001b[0m \u001b[1;33m=\u001b[0m \u001b[0mdata\u001b[0m\u001b[1;33m[\u001b[0m\u001b[0mdata\u001b[0m\u001b[1;33m.\u001b[0m\u001b[0mgroupby\u001b[0m\u001b[1;33m(\u001b[0m\u001b[0mby\u001b[0m\u001b[1;33m=\u001b[0m\u001b[1;34m\"ttl_min\"\u001b[0m\u001b[1;33m)\u001b[0m\u001b[1;33m]\u001b[0m\u001b[1;33m.\u001b[0m\u001b[0mcount\u001b[0m\u001b[1;33m(\u001b[0m\u001b[1;33m)\u001b[0m\u001b[1;33m\u001b[0m\u001b[1;33m\u001b[0m\u001b[0m\n\u001b[0m\u001b[0;32m     13\u001b[0m \u001b[0mcountNum\u001b[0m\u001b[1;33m\u001b[0m\u001b[1;33m\u001b[0m\u001b[0m\n",
      "\u001b[1;32mD:\\Anaconda3\\lib\\site-packages\\pandas\\core\\frame.py\u001b[0m in \u001b[0;36m__getitem__\u001b[1;34m(self, key)\u001b[0m\n\u001b[0;32m   2906\u001b[0m             \u001b[1;32mif\u001b[0m \u001b[0mis_iterator\u001b[0m\u001b[1;33m(\u001b[0m\u001b[0mkey\u001b[0m\u001b[1;33m)\u001b[0m\u001b[1;33m:\u001b[0m\u001b[1;33m\u001b[0m\u001b[1;33m\u001b[0m\u001b[0m\n\u001b[0;32m   2907\u001b[0m                 \u001b[0mkey\u001b[0m \u001b[1;33m=\u001b[0m \u001b[0mlist\u001b[0m\u001b[1;33m(\u001b[0m\u001b[0mkey\u001b[0m\u001b[1;33m)\u001b[0m\u001b[1;33m\u001b[0m\u001b[1;33m\u001b[0m\u001b[0m\n\u001b[1;32m-> 2908\u001b[1;33m             \u001b[0mindexer\u001b[0m \u001b[1;33m=\u001b[0m \u001b[0mself\u001b[0m\u001b[1;33m.\u001b[0m\u001b[0mloc\u001b[0m\u001b[1;33m.\u001b[0m\u001b[0m_get_listlike_indexer\u001b[0m\u001b[1;33m(\u001b[0m\u001b[0mkey\u001b[0m\u001b[1;33m,\u001b[0m \u001b[0maxis\u001b[0m\u001b[1;33m=\u001b[0m\u001b[1;36m1\u001b[0m\u001b[1;33m,\u001b[0m \u001b[0mraise_missing\u001b[0m\u001b[1;33m=\u001b[0m\u001b[1;32mTrue\u001b[0m\u001b[1;33m)\u001b[0m\u001b[1;33m[\u001b[0m\u001b[1;36m1\u001b[0m\u001b[1;33m]\u001b[0m\u001b[1;33m\u001b[0m\u001b[1;33m\u001b[0m\u001b[0m\n\u001b[0m\u001b[0;32m   2909\u001b[0m \u001b[1;33m\u001b[0m\u001b[0m\n\u001b[0;32m   2910\u001b[0m         \u001b[1;31m# take() does not accept boolean indexers\u001b[0m\u001b[1;33m\u001b[0m\u001b[1;33m\u001b[0m\u001b[1;33m\u001b[0m\u001b[0m\n",
      "\u001b[1;32mD:\\Anaconda3\\lib\\site-packages\\pandas\\core\\indexing.py\u001b[0m in \u001b[0;36m_get_listlike_indexer\u001b[1;34m(self, key, axis, raise_missing)\u001b[0m\n\u001b[0;32m   1247\u001b[0m \u001b[1;33m\u001b[0m\u001b[0m\n\u001b[0;32m   1248\u001b[0m         \u001b[1;32mif\u001b[0m \u001b[0max\u001b[0m\u001b[1;33m.\u001b[0m\u001b[0mis_unique\u001b[0m \u001b[1;32mand\u001b[0m \u001b[1;32mnot\u001b[0m \u001b[0mgetattr\u001b[0m\u001b[1;33m(\u001b[0m\u001b[0max\u001b[0m\u001b[1;33m,\u001b[0m \u001b[1;34m\"is_overlapping\"\u001b[0m\u001b[1;33m,\u001b[0m \u001b[1;32mFalse\u001b[0m\u001b[1;33m)\u001b[0m\u001b[1;33m:\u001b[0m\u001b[1;33m\u001b[0m\u001b[1;33m\u001b[0m\u001b[0m\n\u001b[1;32m-> 1249\u001b[1;33m             \u001b[0mindexer\u001b[0m \u001b[1;33m=\u001b[0m \u001b[0max\u001b[0m\u001b[1;33m.\u001b[0m\u001b[0mget_indexer_for\u001b[0m\u001b[1;33m(\u001b[0m\u001b[0mkeyarr\u001b[0m\u001b[1;33m)\u001b[0m\u001b[1;33m\u001b[0m\u001b[1;33m\u001b[0m\u001b[0m\n\u001b[0m\u001b[0;32m   1250\u001b[0m             \u001b[0mkeyarr\u001b[0m \u001b[1;33m=\u001b[0m \u001b[0max\u001b[0m\u001b[1;33m.\u001b[0m\u001b[0mreindex\u001b[0m\u001b[1;33m(\u001b[0m\u001b[0mkeyarr\u001b[0m\u001b[1;33m)\u001b[0m\u001b[1;33m[\u001b[0m\u001b[1;36m0\u001b[0m\u001b[1;33m]\u001b[0m\u001b[1;33m\u001b[0m\u001b[1;33m\u001b[0m\u001b[0m\n\u001b[0;32m   1251\u001b[0m         \u001b[1;32melse\u001b[0m\u001b[1;33m:\u001b[0m\u001b[1;33m\u001b[0m\u001b[1;33m\u001b[0m\u001b[0m\n",
      "\u001b[1;32mD:\\Anaconda3\\lib\\site-packages\\pandas\\core\\indexes\\base.py\u001b[0m in \u001b[0;36mget_indexer_for\u001b[1;34m(self, target, **kwargs)\u001b[0m\n\u001b[0;32m   4707\u001b[0m         \"\"\"\n\u001b[0;32m   4708\u001b[0m         \u001b[1;32mif\u001b[0m \u001b[0mself\u001b[0m\u001b[1;33m.\u001b[0m\u001b[0mis_unique\u001b[0m\u001b[1;33m:\u001b[0m\u001b[1;33m\u001b[0m\u001b[1;33m\u001b[0m\u001b[0m\n\u001b[1;32m-> 4709\u001b[1;33m             \u001b[1;32mreturn\u001b[0m \u001b[0mself\u001b[0m\u001b[1;33m.\u001b[0m\u001b[0mget_indexer\u001b[0m\u001b[1;33m(\u001b[0m\u001b[0mtarget\u001b[0m\u001b[1;33m,\u001b[0m \u001b[1;33m**\u001b[0m\u001b[0mkwargs\u001b[0m\u001b[1;33m)\u001b[0m\u001b[1;33m\u001b[0m\u001b[1;33m\u001b[0m\u001b[0m\n\u001b[0m\u001b[0;32m   4710\u001b[0m         \u001b[0mindexer\u001b[0m\u001b[1;33m,\u001b[0m \u001b[0m_\u001b[0m \u001b[1;33m=\u001b[0m \u001b[0mself\u001b[0m\u001b[1;33m.\u001b[0m\u001b[0mget_indexer_non_unique\u001b[0m\u001b[1;33m(\u001b[0m\u001b[0mtarget\u001b[0m\u001b[1;33m,\u001b[0m \u001b[1;33m**\u001b[0m\u001b[0mkwargs\u001b[0m\u001b[1;33m)\u001b[0m\u001b[1;33m\u001b[0m\u001b[1;33m\u001b[0m\u001b[0m\n\u001b[0;32m   4711\u001b[0m         \u001b[1;32mreturn\u001b[0m \u001b[0mindexer\u001b[0m\u001b[1;33m\u001b[0m\u001b[1;33m\u001b[0m\u001b[0m\n",
      "\u001b[1;32mD:\\Anaconda3\\lib\\site-packages\\pandas\\core\\indexes\\base.py\u001b[0m in \u001b[0;36mget_indexer\u001b[1;34m(self, target, method, limit, tolerance)\u001b[0m\n\u001b[0;32m   3000\u001b[0m                 )\n\u001b[0;32m   3001\u001b[0m \u001b[1;33m\u001b[0m\u001b[0m\n\u001b[1;32m-> 3002\u001b[1;33m             \u001b[0mindexer\u001b[0m \u001b[1;33m=\u001b[0m \u001b[0mself\u001b[0m\u001b[1;33m.\u001b[0m\u001b[0m_engine\u001b[0m\u001b[1;33m.\u001b[0m\u001b[0mget_indexer\u001b[0m\u001b[1;33m(\u001b[0m\u001b[0mtarget\u001b[0m\u001b[1;33m.\u001b[0m\u001b[0m_get_engine_target\u001b[0m\u001b[1;33m(\u001b[0m\u001b[1;33m)\u001b[0m\u001b[1;33m)\u001b[0m\u001b[1;33m\u001b[0m\u001b[1;33m\u001b[0m\u001b[0m\n\u001b[0m\u001b[0;32m   3003\u001b[0m \u001b[1;33m\u001b[0m\u001b[0m\n\u001b[0;32m   3004\u001b[0m         \u001b[1;32mreturn\u001b[0m \u001b[0mensure_platform_int\u001b[0m\u001b[1;33m(\u001b[0m\u001b[0mindexer\u001b[0m\u001b[1;33m)\u001b[0m\u001b[1;33m\u001b[0m\u001b[1;33m\u001b[0m\u001b[0m\n",
      "\u001b[1;32mpandas\\_libs\\index.pyx\u001b[0m in \u001b[0;36mpandas._libs.index.IndexEngine.get_indexer\u001b[1;34m()\u001b[0m\n",
      "\u001b[1;32mpandas\\_libs\\hashtable_class_helper.pxi\u001b[0m in \u001b[0;36mpandas._libs.hashtable.PyObjectHashTable.lookup\u001b[1;34m()\u001b[0m\n",
      "\u001b[1;32mD:\\Anaconda3\\lib\\site-packages\\pandas\\core\\generic.py\u001b[0m in \u001b[0;36m__hash__\u001b[1;34m(self)\u001b[0m\n\u001b[0;32m   1664\u001b[0m     \u001b[1;32mdef\u001b[0m \u001b[0m__hash__\u001b[0m\u001b[1;33m(\u001b[0m\u001b[0mself\u001b[0m\u001b[1;33m)\u001b[0m\u001b[1;33m:\u001b[0m\u001b[1;33m\u001b[0m\u001b[1;33m\u001b[0m\u001b[0m\n\u001b[0;32m   1665\u001b[0m         raise TypeError(\n\u001b[1;32m-> 1666\u001b[1;33m             \u001b[1;34mf\"{repr(type(self).__name__)} objects are mutable, \"\u001b[0m\u001b[1;33m\u001b[0m\u001b[1;33m\u001b[0m\u001b[0m\n\u001b[0m\u001b[0;32m   1667\u001b[0m             \u001b[1;34mf\"thus they cannot be hashed\"\u001b[0m\u001b[1;33m\u001b[0m\u001b[1;33m\u001b[0m\u001b[0m\n\u001b[0;32m   1668\u001b[0m         )\n",
      "\u001b[1;31mTypeError\u001b[0m: 'DataFrame' objects are mutable, thus they cannot be hashed"
     ],
     "ename": "TypeError",
     "evalue": "'DataFrame' objects are mutable, thus they cannot be hashed",
     "output_type": "error"
    }
   ],
   "source": [
    "# 骑行时间分布图\n",
    "# 观察到数据分布存在明显的长尾，对x轴使用log变化以观察分布规律\n",
    "# bins = 10 ** np.arange(0, np.log10(data.ttl_min.max()) + 0.15, 0.15)\n",
    "# \n",
    "# plt.hist(data = data, x = 'ttl_min', bins = bins)  # bins 判断一共有几个柱状条\n",
    "# plt.xscale('log') \n",
    "# xticks = (1, 2, 5, 10, 20, 50, 100, 200, 500)\n",
    "# plt.xticks(xticks, xticks)\n",
    "# plt.xlabel('Riding Duration (min)')\n"
   ],
   "metadata": {
    "collapsed": false,
    "pycharm": {
     "name": "#%%\n",
     "is_executing": false
    }
   }
  },
  {
   "cell_type": "code",
   "execution_count": 70,
   "outputs": [
    {
     "data": {
      "text/plain": "Empty DataFrame\nColumns: [orderid, bikeid, userid, start_time, start_location_x, start_location_y, end_time, end_location_x, end_location_y, track, duration, dur_day, dur_hr, dur_min, dur_sec, ttl_min, dayId, dayType, hourId, hourType, distance, disToCenter]\nIndex: []\n\n[0 rows x 22 columns]",
      "text/html": "<div>\n<style scoped>\n    .dataframe tbody tr th:only-of-type {\n        vertical-align: middle;\n    }\n\n    .dataframe tbody tr th {\n        vertical-align: top;\n    }\n\n    .dataframe thead th {\n        text-align: right;\n    }\n</style>\n<table border=\"1\" class=\"dataframe\">\n  <thead>\n    <tr style=\"text-align: right;\">\n      <th></th>\n      <th>orderid</th>\n      <th>bikeid</th>\n      <th>userid</th>\n      <th>start_time</th>\n      <th>start_location_x</th>\n      <th>start_location_y</th>\n      <th>end_time</th>\n      <th>end_location_x</th>\n      <th>end_location_y</th>\n      <th>track</th>\n      <th>...</th>\n      <th>dur_hr</th>\n      <th>dur_min</th>\n      <th>dur_sec</th>\n      <th>ttl_min</th>\n      <th>dayId</th>\n      <th>dayType</th>\n      <th>hourId</th>\n      <th>hourType</th>\n      <th>distance</th>\n      <th>disToCenter</th>\n    </tr>\n  </thead>\n  <tbody>\n  </tbody>\n</table>\n<p>0 rows × 22 columns</p>\n</div>"
     },
     "metadata": {},
     "output_type": "execute_result",
     "execution_count": 70
    }
   ],
   "source": [
    "data.head(0)"
   ],
   "metadata": {
    "collapsed": false,
    "pycharm": {
     "name": "#%%\n",
     "is_executing": false
    }
   }
  },
  {
   "cell_type": "code",
   "execution_count": 111,
   "outputs": [
    {
     "data": {
      "text/plain": "    hourId  orderid\n0        1      945\n1        2      606\n2        3      399\n3        4      227\n4        5      231\n5        6      513\n6        7     2297\n7        8     6315\n8        9     8490\n9       10     5208\n10      11     3675\n11      12     3703\n12      13     4155\n13      14     4214\n14      15     3962\n15      16     4411\n16      17     5379\n17      18     9279\n18      19    10125\n19      20     9002\n20      21     7468\n21      22     5991\n22      23     3867\n23      24     1899",
      "text/html": "<div>\n<style scoped>\n    .dataframe tbody tr th:only-of-type {\n        vertical-align: middle;\n    }\n\n    .dataframe tbody tr th {\n        vertical-align: top;\n    }\n\n    .dataframe thead th {\n        text-align: right;\n    }\n</style>\n<table border=\"1\" class=\"dataframe\">\n  <thead>\n    <tr style=\"text-align: right;\">\n      <th></th>\n      <th>hourId</th>\n      <th>orderid</th>\n    </tr>\n  </thead>\n  <tbody>\n    <tr>\n      <th>0</th>\n      <td>1</td>\n      <td>945</td>\n    </tr>\n    <tr>\n      <th>1</th>\n      <td>2</td>\n      <td>606</td>\n    </tr>\n    <tr>\n      <th>2</th>\n      <td>3</td>\n      <td>399</td>\n    </tr>\n    <tr>\n      <th>3</th>\n      <td>4</td>\n      <td>227</td>\n    </tr>\n    <tr>\n      <th>4</th>\n      <td>5</td>\n      <td>231</td>\n    </tr>\n    <tr>\n      <th>5</th>\n      <td>6</td>\n      <td>513</td>\n    </tr>\n    <tr>\n      <th>6</th>\n      <td>7</td>\n      <td>2297</td>\n    </tr>\n    <tr>\n      <th>7</th>\n      <td>8</td>\n      <td>6315</td>\n    </tr>\n    <tr>\n      <th>8</th>\n      <td>9</td>\n      <td>8490</td>\n    </tr>\n    <tr>\n      <th>9</th>\n      <td>10</td>\n      <td>5208</td>\n    </tr>\n    <tr>\n      <th>10</th>\n      <td>11</td>\n      <td>3675</td>\n    </tr>\n    <tr>\n      <th>11</th>\n      <td>12</td>\n      <td>3703</td>\n    </tr>\n    <tr>\n      <th>12</th>\n      <td>13</td>\n      <td>4155</td>\n    </tr>\n    <tr>\n      <th>13</th>\n      <td>14</td>\n      <td>4214</td>\n    </tr>\n    <tr>\n      <th>14</th>\n      <td>15</td>\n      <td>3962</td>\n    </tr>\n    <tr>\n      <th>15</th>\n      <td>16</td>\n      <td>4411</td>\n    </tr>\n    <tr>\n      <th>16</th>\n      <td>17</td>\n      <td>5379</td>\n    </tr>\n    <tr>\n      <th>17</th>\n      <td>18</td>\n      <td>9279</td>\n    </tr>\n    <tr>\n      <th>18</th>\n      <td>19</td>\n      <td>10125</td>\n    </tr>\n    <tr>\n      <th>19</th>\n      <td>20</td>\n      <td>9002</td>\n    </tr>\n    <tr>\n      <th>20</th>\n      <td>21</td>\n      <td>7468</td>\n    </tr>\n    <tr>\n      <th>21</th>\n      <td>22</td>\n      <td>5991</td>\n    </tr>\n    <tr>\n      <th>22</th>\n      <td>23</td>\n      <td>3867</td>\n    </tr>\n    <tr>\n      <th>23</th>\n      <td>24</td>\n      <td>1899</td>\n    </tr>\n  </tbody>\n</table>\n</div>"
     },
     "metadata": {},
     "output_type": "execute_result",
     "execution_count": 111
    }
   ],
   "source": [
    "data1 = pd.read_csv(\"data/hour_num_df.csv\")\n",
    "\n",
    "data1"
   ],
   "metadata": {
    "collapsed": false,
    "pycharm": {
     "name": "#%%\n",
     "is_executing": false
    }
   }
  },
  {
   "cell_type": "code",
   "execution_count": 127,
   "outputs": [
    {
     "name": "stdout",
     "text": [
      "      orderid  bikeid userid          start_time  start_location_x  \\\n0       78387  158357  10080 2016-08-20 06:57:00           121.348   \n1      891333   92776   6605 2016-08-29 19:09:00           121.508   \n2     1106623  152045   8876 2016-08-13 16:17:00           121.383   \n3     1389484  196259  10648 2016-08-23 21:34:00           121.484   \n4      188537   78208  11735 2016-08-16 07:32:00           121.407   \n...       ...     ...    ...                 ...               ...   \n1044  1557911  308202    664 2016-08-26 04:58:00           121.489   \n1103   290757  196551  16640 2016-08-24 04:06:00           121.473   \n1356   133643  174811   5669 2016-08-17 03:13:00           121.423   \n1893    69913   41472   4933 2016-08-07 03:06:00           121.490   \n2201    18775  197910   7996 2016-08-18 03:45:00           121.373   \n\n      start_location_y            end_time  end_location_x  end_location_y  \\\n0               31.389 2016-08-20 07:04:00         121.357          31.388   \n1               31.279 2016-08-29 19:31:00         121.489          31.271   \n2               31.254 2016-08-13 16:36:00         121.405          31.248   \n3               31.320 2016-08-23 21:43:00         121.471          31.325   \n4               31.292 2016-08-16 07:41:00         121.418          31.288   \n...                ...                 ...             ...             ...   \n1044            31.264 2016-08-26 05:10:00         121.480          31.269   \n1103            31.264 2016-08-24 04:34:00         121.438          31.286   \n1356            31.320 2016-08-17 03:33:00         121.442          31.307   \n1893            31.313 2016-08-07 03:13:00         121.492          31.316   \n2201            31.254 2016-08-18 04:24:00         121.405          31.250   \n\n                                                  track  ... dur_hr  dur_min  \\\n0     121.347,31.392#121.348,31.389#121.349,31.390#1...  ...      0        7   \n1     121.489,31.270#121.489,31.271#121.490,31.270#1...  ...      0       22   \n2     121.381,31.251#121.382,31.251#121.382,31.252#1...  ...      0       19   \n3     121.471,31.325#121.472,31.325#121.473,31.324#1...  ...      0        9   \n4     121.407,31.291#121.407,31.292#121.408,31.291#1...  ...      0        9   \n...                                                 ...  ...    ...      ...   \n1044  121.480,31.269#121.481,31.268#121.482,31.268#1...  ...      0       12   \n1103  121.438,31.285#121.438,31.286#121.439,31.282#1...  ...      0       28   \n1356  121.423,31.320#121.424,31.320#121.425,31.320#1...  ...      0       20   \n1893  121.490,31.313#121.490,31.314#121.490,31.315#1...  ...      0        7   \n2201  121.381,31.254#121.383,31.256#121.384,31.253#1...  ...      0       39   \n\n      dur_sec  ttl_min  dayId   dayType  hourId        hourType  distance  \\\n0           0      7.0      6  weekends       7  non-rush hours     0.862   \n1           0     22.0      1  weekdays      20      rush hours     2.013   \n2           0     19.0      6  weekends      17  non-rush hours     2.195   \n3           0      9.0      2  weekdays      22  non-rush hours     1.354   \n4           0      9.0      2  weekdays       8      rush hours     1.136   \n...       ...      ...    ...       ...     ...             ...       ...   \n1044        0     12.0      5  weekdays       5  non-rush hours     1.020   \n1103        0     28.0      3  weekdays       5  non-rush hours     4.129   \n1356        0     20.0      3  weekdays       4  non-rush hours     2.312   \n1893        0      7.0      7  weekends       4  non-rush hours     0.384   \n2201        0     39.0      4  weekdays       4  non-rush hours     3.074   \n\n     disToCenter  \n0         20.884  \n1          6.109  \n2          8.723  \n3          9.667  \n4          8.931  \n...          ...  \n1044       3.752  \n1103       3.371  \n1356      10.651  \n1893       8.988  \n2201       9.644  \n\n[120 rows x 22 columns]\n"
     ],
     "output_type": "stream"
    },
    {
     "data": {
      "text/plain": "    hourId  orderid\n0        1      945\n1        2      606\n2        3      399\n3        4      227\n4        5      231\n5        6      513\n6        7     2297\n7        8     6315\n8        9     8490\n9       10     5208\n10      11     3675\n11      12     3703\n12      13     4155\n13      14     4214\n14      15     3962\n15      16     4411\n16      17     5379\n17      18     9279\n18      19    10125\n19      20     9002\n20      21     7468\n21      22     5991\n22      23     3867\n23      24     1899",
      "text/html": "<div>\n<style scoped>\n    .dataframe tbody tr th:only-of-type {\n        vertical-align: middle;\n    }\n\n    .dataframe tbody tr th {\n        vertical-align: top;\n    }\n\n    .dataframe thead th {\n        text-align: right;\n    }\n</style>\n<table border=\"1\" class=\"dataframe\">\n  <thead>\n    <tr style=\"text-align: right;\">\n      <th></th>\n      <th>hourId</th>\n      <th>orderid</th>\n    </tr>\n  </thead>\n  <tbody>\n    <tr>\n      <th>0</th>\n      <td>1</td>\n      <td>945</td>\n    </tr>\n    <tr>\n      <th>1</th>\n      <td>2</td>\n      <td>606</td>\n    </tr>\n    <tr>\n      <th>2</th>\n      <td>3</td>\n      <td>399</td>\n    </tr>\n    <tr>\n      <th>3</th>\n      <td>4</td>\n      <td>227</td>\n    </tr>\n    <tr>\n      <th>4</th>\n      <td>5</td>\n      <td>231</td>\n    </tr>\n    <tr>\n      <th>5</th>\n      <td>6</td>\n      <td>513</td>\n    </tr>\n    <tr>\n      <th>6</th>\n      <td>7</td>\n      <td>2297</td>\n    </tr>\n    <tr>\n      <th>7</th>\n      <td>8</td>\n      <td>6315</td>\n    </tr>\n    <tr>\n      <th>8</th>\n      <td>9</td>\n      <td>8490</td>\n    </tr>\n    <tr>\n      <th>9</th>\n      <td>10</td>\n      <td>5208</td>\n    </tr>\n    <tr>\n      <th>10</th>\n      <td>11</td>\n      <td>3675</td>\n    </tr>\n    <tr>\n      <th>11</th>\n      <td>12</td>\n      <td>3703</td>\n    </tr>\n    <tr>\n      <th>12</th>\n      <td>13</td>\n      <td>4155</td>\n    </tr>\n    <tr>\n      <th>13</th>\n      <td>14</td>\n      <td>4214</td>\n    </tr>\n    <tr>\n      <th>14</th>\n      <td>15</td>\n      <td>3962</td>\n    </tr>\n    <tr>\n      <th>15</th>\n      <td>16</td>\n      <td>4411</td>\n    </tr>\n    <tr>\n      <th>16</th>\n      <td>17</td>\n      <td>5379</td>\n    </tr>\n    <tr>\n      <th>17</th>\n      <td>18</td>\n      <td>9279</td>\n    </tr>\n    <tr>\n      <th>18</th>\n      <td>19</td>\n      <td>10125</td>\n    </tr>\n    <tr>\n      <th>19</th>\n      <td>20</td>\n      <td>9002</td>\n    </tr>\n    <tr>\n      <th>20</th>\n      <td>21</td>\n      <td>7468</td>\n    </tr>\n    <tr>\n      <th>21</th>\n      <td>22</td>\n      <td>5991</td>\n    </tr>\n    <tr>\n      <th>22</th>\n      <td>23</td>\n      <td>3867</td>\n    </tr>\n    <tr>\n      <th>23</th>\n      <td>24</td>\n      <td>1899</td>\n    </tr>\n  </tbody>\n</table>\n</div>"
     },
     "metadata": {},
     "output_type": "execute_result",
     "execution_count": 127
    }
   ],
   "source": [
    "print(hour_group.head())\n",
    "hour_num_df"
   ],
   "metadata": {
    "collapsed": false,
    "pycharm": {
     "name": "#%%\n",
     "is_executing": false
    }
   }
  },
  {
   "cell_type": "code",
   "execution_count": null,
   "outputs": [],
   "source": [
    "\n"
   ],
   "metadata": {
    "collapsed": false,
    "pycharm": {
     "name": "#%%\n"
    }
   }
  }
 ],
 "metadata": {
  "language_info": {
   "codemirror_mode": {
    "name": "ipython",
    "version": 2
   },
   "file_extension": ".py",
   "mimetype": "text/x-python",
   "name": "python",
   "nbconvert_exporter": "python",
   "pygments_lexer": "ipython2",
   "version": "2.7.6"
  },
  "kernelspec": {
   "name": "python3",
   "language": "python",
   "display_name": "Python 3"
  },
  "pycharm": {
   "stem_cell": {
    "cell_type": "raw",
    "source": [],
    "metadata": {
     "collapsed": false
    }
   }
  }
 },
 "nbformat": 4,
 "nbformat_minor": 0
}